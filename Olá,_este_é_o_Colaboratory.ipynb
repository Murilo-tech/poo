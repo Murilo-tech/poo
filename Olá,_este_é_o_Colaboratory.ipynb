{
  "cells": [
    {
      "cell_type": "markdown",
      "metadata": {
        "id": "view-in-github",
        "colab_type": "text"
      },
      "source": [
        "<a href=\"https://colab.research.google.com/github/Murilo-tech/poo/blob/main/Ol%C3%A1%2C_este_%C3%A9_o_Colaboratory.ipynb\" target=\"_parent\"><img src=\"https://colab.research.google.com/assets/colab-badge.svg\" alt=\"Open In Colab\"/></a>"
      ]
    },
    {
      "cell_type": "markdown",
      "source": [
        "### Ex.1) Converter F para C OBS: Entrada F Processamento: C=(5/9)*(F-32)"
      ],
      "metadata": {
        "id": "Zq4pA157jvT2"
      }
    },
    {
      "cell_type": "code",
      "execution_count": 10,
      "metadata": {
        "id": "zwFnJsE6vjf8",
        "outputId": "608c66c9-e7ec-4895-87db-ccacf9c18a7a",
        "colab": {
          "base_uri": "https://localhost:8080/"
        }
      },
      "outputs": [
        {
          "output_type": "stream",
          "name": "stdout",
          "text": [
            "Digite valor em Graus Farenheit: 57\n",
            "O valor de 57.0 ºF corresponde ao valor de 13.88888888888889 ºC\n"
          ]
        }
      ],
      "source": [
        "F = float(input(\"Digite valor em Graus Farenheit: \"))\n",
        "C = (5/9)*(F-32)\n",
        "print(f\"O valor de {F} ºF corresponde ao valor de {C} ºC\")"
      ]
    },
    {
      "cell_type": "markdown",
      "source": [
        "# Ex.2) Converter polegadas em mm"
      ],
      "metadata": {
        "id": "MIcrQLShjtol"
      }
    },
    {
      "cell_type": "code",
      "source": [
        "P = float(input(\"Digite valor em polegadas:\"))\n",
        "M = P*25.4\n",
        "print(f\"O valor de {P}pool corresponde ao valor de {M:.2f}mm\")"
      ],
      "metadata": {
        "id": "fF2xU876kCRG",
        "outputId": "5d52607c-b75d-435d-e493-7f481798239b",
        "colab": {
          "base_uri": "https://localhost:8080/"
        }
      },
      "execution_count": 13,
      "outputs": [
        {
          "output_type": "stream",
          "name": "stdout",
          "text": [
            "Digite valor em polegadas:10.11111\n",
            "O valor de 10.11111pool corresponde ao valor de 256.82mm\n"
          ]
        }
      ]
    },
    {
      "cell_type": "markdown",
      "source": [
        "Programa verificador de idade para votação\n"
      ],
      "metadata": {
        "id": "jbZsu3snoAn9"
      }
    },
    {
      "cell_type": "code",
      "source": [
        "#ENTRADA: Idade\n",
        "#SAIDA: \"Pode Votar ou Nao\"\n",
        "\n",
        "idade = int(input(\"Digite sua idade:\"))\n",
        "if idade >= 18:\n",
        "  print(\"Pode votar\")\n",
        "else:\n",
        "  print(\"Não pode votar\")"
      ],
      "metadata": {
        "id": "7Lw5boLkpPIv",
        "outputId": "d0d23862-acba-4553-e09c-2f1c917b8c38",
        "colab": {
          "base_uri": "https://localhost:8080/"
        }
      },
      "execution_count": 14,
      "outputs": [
        {
          "output_type": "stream",
          "name": "stdout",
          "text": [
            "Digite sua idade:19\n",
            "Pode votar\n"
          ]
        }
      ]
    }
  ],
  "metadata": {
    "colab": {
      "name": "Olá, este é o Colaboratory",
      "provenance": [],
      "include_colab_link": true
    },
    "kernelspec": {
      "display_name": "Python 3",
      "name": "python3"
    }
  },
  "nbformat": 4,
  "nbformat_minor": 0
}